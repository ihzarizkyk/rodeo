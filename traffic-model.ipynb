{
 "cells": [
  {
   "cell_type": "code",
   "execution_count": null,
   "metadata": {},
   "outputs": [],
   "source": [
    "import pandas as pd\n",
    "\n",
    "data = pd.read_csv('dataset_traffic.csv', sep=\";\")\n",
    "data.head()"
   ]
  },
  {
   "cell_type": "code",
   "execution_count": null,
   "metadata": {},
   "outputs": [],
   "source": [
    "from sklearn.preprocessing import OneHotEncoder\n",
    "ohe = OneHotEncoder(sparse=False, dtype=int)\n",
    "data[[\"18-30\", \"31-50\", \"Over 51\", \"Under 18\"]] = ohe.fit_transform(data[[\"age\"]])\n",
    "data[[\"Male\", \"Female\"]] = ohe.fit_transform(data[[\"gender\"]])\n",
    "data[[\"1-2yr\", \"2-5yr\", \"5-10yr\", \"Above 10yr\", \"Below 1yr\", \"No License\"]] = ohe.fit_transform(data[[\"driving_exp\"]])\n",
    "data[[\"Cloudy\", \"Fog or mist\", \"Normal\", \"Other\", \"Raining\", \"Raining and Windy\", \"Snow\", \"Windy\"]] = ohe.fit_transform(data[[\"weather\"]])\n",
    "data.dropna()\n",
    "data"
   ]
  },
  {
   "cell_type": "code",
   "execution_count": null,
   "metadata": {},
   "outputs": [],
   "source": [
    "data.isnull().values.any()"
   ]
  },
  {
   "cell_type": "code",
   "execution_count": null,
   "metadata": {},
   "outputs": [],
   "source": [
    "X = data[[\"18-30\", \"31-50\", \"Over 51\", \"Under 18\", \"Male\", \"Female\", \"1-2yr\", \"2-5yr\", \"5-10yr\", \"Above 10yr\", \"Below 1yr\", \"No License\", \"Cloudy\", \"Fog or mist\", \"Normal\", \"Other\", \"Raining\", \"Raining and Windy\", \"Snow\", \"Windy\"]]\n",
    "y = data[[\"severity\"]]"
   ]
  },
  {
   "cell_type": "code",
   "execution_count": null,
   "metadata": {},
   "outputs": [],
   "source": [
    "from sklearn.model_selection import train_test_split\n",
    "X_train, X_test, y_train, y_test = train_test_split(X, y, test_size=0.1)"
   ]
  },
  {
   "cell_type": "code",
   "execution_count": null,
   "metadata": {},
   "outputs": [],
   "source": [
    "from sklearn.tree import DecisionTreeClassifier\n",
    "model = DecisionTreeClassifier()\n",
    "model.fit(X_train, y_train)\n",
    "model.score(X_train, y_train)"
   ]
  },
  {
   "cell_type": "code",
   "execution_count": null,
   "metadata": {},
   "outputs": [],
   "source": [
    "model.predict(X_test)"
   ]
  },
  {
   "cell_type": "code",
   "execution_count": null,
   "metadata": {},
   "outputs": [],
   "source": [
    "y_pred = model.predict(X_test)\n",
    "from sklearn.metrics import f1_score\n",
    "f1_score(y_test, y_pred)"
   ]
  }
 ],
 "metadata": {
  "kernelspec": {
   "display_name": "Python 3",
   "language": "python",
   "name": "python3"
  },
  "language_info": {
   "codemirror_mode": {
    "name": "ipython",
    "version": 3
   },
   "file_extension": ".py",
   "mimetype": "text/x-python",
   "name": "python",
   "nbconvert_exporter": "python",
   "pygments_lexer": "ipython3",
   "version": "3.11.1"
  },
  "orig_nbformat": 4,
  "vscode": {
   "interpreter": {
    "hash": "71f3317773c93b6e9643662c283ca585d7e1b986c668af10f318bd9d9a5d51e1"
   }
  }
 },
 "nbformat": 4,
 "nbformat_minor": 2
}
